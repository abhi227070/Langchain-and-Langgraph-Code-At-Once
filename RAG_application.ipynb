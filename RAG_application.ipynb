{
 "cells": [
  {
   "cell_type": "markdown",
   "id": "0860e21e",
   "metadata": {},
   "source": [
    "### RAG Application"
   ]
  },
  {
   "cell_type": "code",
   "execution_count": null,
   "id": "6ab29600",
   "metadata": {},
   "outputs": [],
   "source": [
    "from dotenv import load_dotenv\n",
    "from langchain_google_genai import ChatGoogleGenerativeAI\n",
    "\n",
    "model = ChatGoogleGenerativeAI(\n",
    "    model = 'gemini-1.5-flash'\n",
    ")\n",
    "\n",
    "response = model.invoke('Hello')\n",
    "response"
   ]
  },
  {
   "cell_type": "code",
   "execution_count": null,
   "id": "65e4da45",
   "metadata": {},
   "outputs": [],
   "source": [
    "from langchain_community.document_loaders.pdf import PyPDFLoader\n",
    "\n",
    "pdf_loader = PyPDFLoader(\n",
    "    file_path='Arrora_Company_Internal_Info.pdf'\n",
    ")\n",
    "\n",
    "docs = pdf_loader.load()\n",
    "\n",
    "docs"
   ]
  },
  {
   "cell_type": "code",
   "execution_count": null,
   "id": "3e73accc",
   "metadata": {},
   "outputs": [],
   "source": [
    "from langchain.text_splitter import RecursiveCharacterTextSplitter\n",
    "\n",
    "splitter = RecursiveCharacterTextSplitter(chunk_size = 500, chunk_overlap = 50)\n",
    "chunks = splitter.split_documents(docs)"
   ]
  },
  {
   "cell_type": "code",
   "execution_count": null,
   "id": "b7dfa013",
   "metadata": {},
   "outputs": [],
   "source": [
    "from langchain_google_genai import GoogleGenerativeAIEmbeddings\n",
    "\n",
    "embeddings = GoogleGenerativeAIEmbeddings(\n",
    "    model=\"models/gemini-embedding-001\"\n",
    ")"
   ]
  },
  {
   "cell_type": "code",
   "execution_count": null,
   "id": "fe7a5313",
   "metadata": {},
   "outputs": [],
   "source": [
    "from pinecone import Pinecone\n",
    "from pinecone import ServerlessSpec\n",
    "from langchain_pinecone import PineconeVectorStore\n",
    "import os\n",
    "\n",
    "\n",
    "pinecone_api_key = os.environ.get(\"PINECONE_API_KEY\")\n",
    "pc = Pinecone(api_key=pinecone_api_key)\n",
    "\n",
    "index_name = \"arrora-company-internal-info\"  # change if desired\n",
    "\n",
    "if not pc.has_index(index_name):\n",
    "    pc.create_index(\n",
    "        name=index_name,\n",
    "        dimension=3072,\n",
    "        metric=\"cosine\",\n",
    "        spec=ServerlessSpec(cloud=\"aws\", region=\"us-east-1\"),\n",
    "    )\n",
    "\n",
    "index = pc.Index(index_name)\n",
    "\n",
    "# Pinecone Vector Store\n",
    "vector_store = PineconeVectorStore(\n",
    "    index = index,\n",
    "    embedding= embeddings\n",
    ")\n",
    "\n",
    "# vector_store.add_documents(chunks)"
   ]
  },
  {
   "cell_type": "code",
   "execution_count": null,
   "id": "e1dd7fbe",
   "metadata": {},
   "outputs": [],
   "source": [
    "retriever = vector_store.as_retriever(search_type = 'similarity', search_kwargs = {'k' : 3})"
   ]
  },
  {
   "cell_type": "code",
   "execution_count": null,
   "id": "43158e77",
   "metadata": {},
   "outputs": [],
   "source": [
    "response = retriever.invoke(\"What is the leave policy?\")"
   ]
  },
  {
   "cell_type": "code",
   "execution_count": null,
   "id": "786a9093",
   "metadata": {},
   "outputs": [],
   "source": [
    "print('\\n\\n'.join(context.page_content for context in response))"
   ]
  },
  {
   "cell_type": "code",
   "execution_count": null,
   "id": "bcdadb2e",
   "metadata": {},
   "outputs": [],
   "source": [
    "from langchain.prompts import PromptTemplate\n",
    "\n",
    "prompt = PromptTemplate(\n",
    "    template= \"\"\"\"\n",
    "    You are an helpful assistant.\n",
    "    Answer the user's query from the given documents or provided context.\n",
    "    If the answer not present inside the provided text then instead of giving random answer just say \"I don't know\".\n",
    "    \n",
    "    Provided Context: \n",
    "    {context}\n",
    "    \n",
    "    User's query:\n",
    "    {query}\n",
    "    \"\"\",\n",
    "    input_variables= ['context', 'query']\n",
    ")"
   ]
  },
  {
   "cell_type": "code",
   "execution_count": null,
   "id": "00f3bb40",
   "metadata": {},
   "outputs": [],
   "source": [
    "from langchain.schema.runnable import RunnableParallel, RunnableLambda, RunnablePassthrough\n",
    "from langchain_core.output_parsers import StrOutputParser\n",
    "\n",
    "def format_context(reletative_docs):\n",
    "    return '\\n\\n'.join(doc.page_content for doc in reletative_docs)\n",
    "\n",
    "\n",
    "parallel_chain = RunnableParallel(\n",
    "    {\n",
    "        'context': retriever | RunnableLambda(format_context),\n",
    "        'query': RunnablePassthrough()\n",
    "    }\n",
    ")"
   ]
  },
  {
   "cell_type": "code",
   "execution_count": null,
   "id": "5fbb0867",
   "metadata": {},
   "outputs": [],
   "source": [
    "parser = StrOutputParser()\n",
    "\n",
    "rag_chain = parallel_chain | prompt | model | parser"
   ]
  },
  {
   "cell_type": "code",
   "execution_count": null,
   "id": "275785d4",
   "metadata": {},
   "outputs": [],
   "source": [
    "response = rag_chain.invoke(\"Tell me more about this company\")\n",
    "\n",
    "print(response)"
   ]
  },
  {
   "cell_type": "code",
   "execution_count": null,
   "id": "da6c2f2c",
   "metadata": {},
   "outputs": [],
   "source": []
  }
 ],
 "metadata": {
  "kernelspec": {
   "display_name": "MachineLearning",
   "language": "python",
   "name": "python3"
  },
  "language_info": {
   "codemirror_mode": {
    "name": "ipython",
    "version": 3
   },
   "file_extension": ".py",
   "mimetype": "text/x-python",
   "name": "python",
   "nbconvert_exporter": "python",
   "pygments_lexer": "ipython3",
   "version": "3.10.11"
  }
 },
 "nbformat": 4,
 "nbformat_minor": 5
}
